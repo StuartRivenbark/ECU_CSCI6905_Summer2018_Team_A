{
 "cells": [
  {
   "cell_type": "markdown",
   "metadata": {},
   "source": [
    "creating a new sandbox here for grabbing data and interacting with it"
   ]
  },
  {
   "cell_type": "code",
   "execution_count": 8,
   "metadata": {},
   "outputs": [
    {
     "name": "stdout",
     "output_type": "stream",
     "text": [
      "hello world\n"
     ]
    }
   ],
   "source": [
    "import tensorflow as tf \n",
    "import numpy as np\n",
    "import matplotlib.pyplot as plt\n",
    "print(\"hello world\") "
   ]
  },
  {
   "cell_type": "code",
   "execution_count": null,
   "metadata": {},
   "outputs": [],
   "source": [
    "\n",
    "# Hyper Parameters\n",
    "TIME_STEP = 10       # rnn time step\n",
    "INPUT_SIZE = 1      # rnn input size\n",
    "CELL_SIZE = 32      # rnn cell size\n",
    "LR = 0.02           # learning rate\n",
    "\n",
    "# show data\n",
    "steps = np.linspace(0, np.pi*2, 100, dtype=np.float32)\n",
    "x_np = np.sin(steps); y_np = np.cos(steps)    # float32 for converting torch FloatTensor\n",
    "plt.plot(steps, y_np, 'r-', label='target (cos)'); plt.plot(steps, x_np, 'b-', label='input (sin)')\n",
    "plt.legend(loc='best'); plt.show()\n",
    "\n",
    "# tensorflow placeholders\n",
    "tf_x = tf.placeholder(tf.float32, [None, TIME_STEP, INPUT_SIZE])        # shape(batch, 5, 1)\n",
    "tf_y = tf.placeholder(tf.float32, [None, TIME_STEP, INPUT_SIZE])          # input y\n",
    "\n",
    "# RNN\n",
    "rnn_cell = tf.contrib.rnn.BasicRNNCell(num_units=CELL_SIZE)\n",
    "init_s = rnn_cell.zero_state(batch_size=1, dtype=tf.float32)    # very first hidden state\n",
    "outputs, final_s = tf.nn.dynamic_rnn(\n",
    "    rnn_cell,                   # cell you have chosen\n",
    "    tf_x,                       # input\n",
    "    initial_state=init_s,       # the initial hidden state\n",
    "    time_major=False,           # False: (batch, time step, input); True: (time step, batch, input)\n",
    ")\n",
    "outs2D = tf.reshape(outputs, [-1, CELL_SIZE])                       # reshape 3D output to 2D for fully connected layer\n",
    "net_outs2D = tf.layers.dense(outs2D, INPUT_SIZE)\n",
    "outs = tf.reshape(net_outs2D, [-1, TIME_STEP, INPUT_SIZE])          # reshape back to 3D\n",
    "\n",
    "loss = tf.losses.mean_squared_error(labels=tf_y, predictions=outs)  # compute cost\n",
    "train_op = tf.train.AdamOptimizer(LR).minimize(loss)\n",
    "\n",
    "sess = tf.Session()\n",
    "sess.run(tf.global_variables_initializer())     # initialize var in graph\n",
    "\n",
    "plt.figure(1, figsize=(12, 5)); plt.ion()       # continuously plot\n",
    "\n",
    "for step in range(60):\n",
    "    start, end = step * np.pi, (step+1)*np.pi   # time range\n",
    "    # use sin predicts cos\n",
    "    steps = np.linspace(start, end, TIME_STEP)\n",
    "    x = np.sin(steps)[np.newaxis, :, np.newaxis]    # shape (batch, time_step, input_size)\n",
    "    y = np.cos(steps)[np.newaxis, :, np.newaxis]\n",
    "    if 'final_s_' not in globals():                 # first state, no any hidden state\n",
    "        feed_dict = {tf_x: x, tf_y: y}\n",
    "    else:                                           # has hidden state, so pass it to rnn\n",
    "        feed_dict = {tf_x: x, tf_y: y, init_s: final_s_}\n",
    "    _, pred_, final_s_ = sess.run([train_op, outs, final_s], feed_dict)     # train\n",
    "\n",
    "    # plotting\n",
    "    plt.plot(steps, y.flatten(), 'r-'); plt.plot(steps, pred_.flatten(), 'b-')\n",
    "    plt.ylim((-1.2, 1.2)); plt.draw(); plt.pause(0.05)\n",
    "\n",
    "plt.ioff(); plt.show()"
   ]
  },
  {
   "cell_type": "markdown",
   "metadata": {},
   "source": []
  },
  {
   "cell_type": "code",
   "execution_count": null,
   "metadata": {},
   "outputs": [],
   "source": []
  }
 ],
 "metadata": {
  "kernelspec": {
   "display_name": "Python 3",
   "language": "python",
   "name": "python3"
  },
  "language_info": {
   "codemirror_mode": {
    "name": "ipython",
    "version": 3
   },
   "file_extension": ".py",
   "mimetype": "text/x-python",
   "name": "python",
   "nbconvert_exporter": "python",
   "pygments_lexer": "ipython3",
   "version": "3.6.4"
  }
 },
 "nbformat": 4,
 "nbformat_minor": 2
}
